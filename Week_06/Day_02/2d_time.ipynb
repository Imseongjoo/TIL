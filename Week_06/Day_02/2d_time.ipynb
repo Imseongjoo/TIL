{
 "cells": [
  {
   "attachments": {},
   "cell_type": "markdown",
   "metadata": {},
   "source": [
    "# 2차원 리스트의 생성\n",
    "\n",
    "1. 리스트 컴프리헨션 -> 대부분의 블로그 글\n",
    "2. 순수 반복문(for)\n",
    "\n",
    "[[1,1],[2,2]]\n",
    "\n",
    "C -> C++ -> Python"
   ]
  },
  {
   "cell_type": "code",
   "execution_count": 10,
   "metadata": {},
   "outputs": [
    {
     "name": "stdout",
     "output_type": "stream",
     "text": [
      "10000 10000\n",
      "CPU times: total: 703 ms\n",
      "Wall time: 687 ms\n"
     ]
    }
   ],
   "source": [
    "%%time\n",
    "# 컴프리헨션\n",
    "list_2d_1 = [[0] * (10 ** 4) for _ in range(10**4)]\n",
    "\n",
    "print(len(list_2d_1), len(list_2d_1[0]))"
   ]
  },
  {
   "cell_type": "code",
   "execution_count": 11,
   "metadata": {},
   "outputs": [
    {
     "name": "stdout",
     "output_type": "stream",
     "text": [
      "10000 10000\n",
      "CPU times: total: 719 ms\n",
      "Wall time: 719 ms\n"
     ]
    }
   ],
   "source": [
    "%%time\n",
    "# 순수 for\n",
    "list_2d_2 = []\n",
    "\n",
    "for _ in range(10**4):\n",
    "    row = [0] * (10 ** 4)\n",
    "    list_2d_2.append(row)\n",
    "\n",
    "print(len(list_2d_2), len(list_2d_2[0]))"
   ]
  },
  {
   "attachments": {},
   "cell_type": "markdown",
   "metadata": {},
   "source": [
    "코딩하다가 오타가 많이 발생하지 않는지?\n",
    "\n",
    "word -> wrod \n",
    "list_ -> lsit_\n",
    "print -> pirnt\n",
    "\n",
    "# Code Spell Checker\n",
    "## 오타 찾아주는 확장프로그램"
   ]
  }
 ],
 "metadata": {
  "kernelspec": {
   "display_name": "Python 3",
   "language": "python",
   "name": "python3"
  },
  "language_info": {
   "codemirror_mode": {
    "name": "ipython",
    "version": 3
   },
   "file_extension": ".py",
   "mimetype": "text/x-python",
   "name": "python",
   "nbconvert_exporter": "python",
   "pygments_lexer": "ipython3",
   "version": "3.9.13"
  },
  "orig_nbformat": 4,
  "vscode": {
   "interpreter": {
    "hash": "8b46390d37160f64800603147848dd3125afd838785e1acdae529df06946400f"
   }
  }
 },
 "nbformat": 4,
 "nbformat_minor": 2
}
