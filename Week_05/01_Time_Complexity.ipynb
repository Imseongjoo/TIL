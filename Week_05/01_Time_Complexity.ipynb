{
 "cells": [
  {
   "cell_type": "code",
   "execution_count": 5,
   "metadata": {},
   "outputs": [],
   "source": [
    "import sys"
   ]
  },
  {
   "cell_type": "code",
   "execution_count": 6,
   "metadata": {},
   "outputs": [
    {
     "name": "stdout",
     "output_type": "stream",
     "text": [
      "CPU times: total: 62.5 ms\n",
      "Wall time: 62.5 ms\n"
     ]
    }
   ],
   "source": [
    "%%time\n",
    "# 리스트 Vs 딕셔너리\n",
    "# 데이터 생성(삽입) 속도 비교\n",
    "# 리스트 append()\n",
    "list_ = []\n",
    "for i in range(10**6):\n",
    "    list_.append(i)"
   ]
  },
  {
   "cell_type": "code",
   "execution_count": 7,
   "metadata": {},
   "outputs": [
    {
     "name": "stdout",
     "output_type": "stream",
     "text": [
      "CPU times: total: 62.5 ms\n",
      "Wall time: 77.5 ms\n"
     ]
    }
   ],
   "source": [
    "%%time\n",
    "# 리스트 Vs 딕셔너리\n",
    "# 데이터 생성 속도 비교\n",
    "# 딕셔너리\n",
    "dict_ = {}\n",
    "for i in range(10**6):\n",
    "    dict_[i] = i\n"
   ]
  },
  {
   "cell_type": "code",
   "execution_count": 11,
   "metadata": {},
   "outputs": [
    {
     "ename": "KeyboardInterrupt",
     "evalue": "",
     "output_type": "error",
     "traceback": [
      "\u001b[1;31m---------------------------------------------------------------------------\u001b[0m",
      "\u001b[1;31mKeyboardInterrupt\u001b[0m                         Traceback (most recent call last)",
      "File \u001b[1;32m<timed exec>:7\u001b[0m, in \u001b[0;36m<module>\u001b[1;34m\u001b[0m\n",
      "\u001b[1;31mKeyboardInterrupt\u001b[0m: "
     ]
    }
   ],
   "source": [
    "%%time\n",
    "# 리스트 Vs 딕셔너리\n",
    "# 데이터 삭제 속도 비교\n",
    "# 리스트 remove 속도\n",
    "# O(n)\n",
    "list_ = list(range(10**6))\n",
    "\n",
    "for i in range(10**6):\n",
    "    list_.remove(i)\n"
   ]
  },
  {
   "cell_type": "code",
   "execution_count": 10,
   "metadata": {},
   "outputs": [
    {
     "name": "stdout",
     "output_type": "stream",
     "text": [
      "CPU times: total: 125 ms\n",
      "Wall time: 118 ms\n"
     ]
    }
   ],
   "source": [
    "%%time\n",
    "# 리스트 Vs 딕셔너리\n",
    "# 데이터 삭제 속도 비교\n",
    "# 딕셔너리 del 속도\n",
    "# O(1)\n",
    "dict_ = {}\n",
    "for i in range(10**6):\n",
    "    dict_[i] = i\n",
    "\n",
    "for i in range(10**6):\n",
    "    del dict_[i]\n"
   ]
  },
  {
   "cell_type": "code",
   "execution_count": 24,
   "metadata": {},
   "outputs": [
    {
     "name": "stdout",
     "output_type": "stream",
     "text": [
      "CPU times: total: 46.9 ms\n",
      "Wall time: 41.4 ms\n"
     ]
    }
   ],
   "source": [
    "%%time\n",
    "# 리스트 pop() 속도\n",
    "# 리스트.pop() 무슨 기능을 하나요?\n",
    "# 맨 뒤에 있는 데이터를 꺼낸다.\n",
    "# O(1) \n",
    "list_ = list(range(10**6))\n",
    "\n",
    "for i in range(10**6):\n",
    "    list_.pop()\n"
   ]
  },
  {
   "cell_type": "code",
   "execution_count": 26,
   "metadata": {},
   "outputs": [
    {
     "ename": "KeyboardInterrupt",
     "evalue": "",
     "output_type": "error",
     "traceback": [
      "\u001b[1;31m---------------------------------------------------------------------------\u001b[0m",
      "\u001b[1;31mKeyboardInterrupt\u001b[0m                         Traceback (most recent call last)",
      "File \u001b[1;32m<timed exec>:7\u001b[0m, in \u001b[0;36m<module>\u001b[1;34m\u001b[0m\n",
      "\u001b[1;31mKeyboardInterrupt\u001b[0m: "
     ]
    }
   ],
   "source": [
    "%%time\n",
    "# 리스트 pop(0) 속도\n",
    "# 리스트.pop(0) 무슨 기능을 하나요?\n",
    "# pop(0) 맨 앞에 있는 데이터를 꺼낸다.\n",
    "list_ = list(range(10**6))\n",
    "\n",
    "for i in range(10**6):\n",
    "    list_.pop(0)\n"
   ]
  },
  {
   "cell_type": "code",
   "execution_count": 29,
   "metadata": {},
   "outputs": [
    {
     "ename": "KeyboardInterrupt",
     "evalue": "",
     "output_type": "error",
     "traceback": [
      "\u001b[1;31m---------------------------------------------------------------------------\u001b[0m",
      "\u001b[1;31mKeyboardInterrupt\u001b[0m                         Traceback (most recent call last)",
      "File \u001b[1;32m<timed exec>:8\u001b[0m, in \u001b[0;36m<module>\u001b[1;34m\u001b[0m\n",
      "\u001b[1;31mKeyboardInterrupt\u001b[0m: "
     ]
    }
   ],
   "source": [
    "%%time\n",
    "# 리스트 Vs 딕셔너리\n",
    "# 데이터 탐색 속도 비교\n",
    "# 리스트 in 탐색 속도\n",
    "# 리스트 in 탐색 시간복잡도 O(N)\n",
    "list_ = []\n",
    "for i in range(10**6):\n",
    "    list_.append(i)\n",
    "\n",
    "for i in range(10**6):\n",
    "    if i in list_:\n",
    "        pass"
   ]
  },
  {
   "cell_type": "code",
   "execution_count": 30,
   "metadata": {},
   "outputs": [
    {
     "name": "stdout",
     "output_type": "stream",
     "text": [
      "CPU times: total: 93.8 ms\n",
      "Wall time: 94.4 ms\n"
     ]
    }
   ],
   "source": [
    "%%time\n",
    "# 리스트 Vs 딕셔너리\n",
    "# 데이터 탐색 속도 비교\n",
    "# 딕셔너리 in 탐색 속도\n",
    "# 딕셔너리 in 탐색 시간복잡도 O(1)\n",
    "dict_ = {}\n",
    "for i in range(10**6):\n",
    "    dict_[i] = i\n",
    "\n",
    "for i in range(10**6):\n",
    "    if i in dict_:\n",
    "        pass"
   ]
  },
  {
   "cell_type": "code",
   "execution_count": 32,
   "metadata": {},
   "outputs": [
    {
     "name": "stdout",
     "output_type": "stream",
     "text": [
      "list 크기 : 8448728\n",
      "dict 크기 : 41943136\n"
     ]
    }
   ],
   "source": [
    "# 리스트 Vs 딕셔너리\n",
    "# 변수 크기 비교\n",
    "dict_ = {}\n",
    "list_ = []\n",
    "for i in range(10**6):\n",
    "    dict_[i] = i\n",
    "    list_.append(i)\n",
    "    \n",
    "print(f\"list 크기 : {sys.getsizeof(list_)}\\ndict 크기 : {sys.getsizeof(dict_)}\")"
   ]
  },
  {
   "cell_type": "code",
   "execution_count": null,
   "metadata": {},
   "outputs": [],
   "source": []
  }
 ],
 "metadata": {
  "kernelspec": {
   "display_name": "Python 3",
   "language": "python",
   "name": "python3"
  },
  "language_info": {
   "codemirror_mode": {
    "name": "ipython",
    "version": 3
   },
   "file_extension": ".py",
   "mimetype": "text/x-python",
   "name": "python",
   "nbconvert_exporter": "python",
   "pygments_lexer": "ipython3",
   "version": "3.9.13 (tags/v3.9.13:6de2ca5, May 17 2022, 16:36:42) [MSC v.1929 64 bit (AMD64)]"
  },
  "orig_nbformat": 4,
  "vscode": {
   "interpreter": {
    "hash": "f3de7a485003fe2f575bbe18a55c2cde784087710f3d1a27aedf5e45f611e75c"
   }
  }
 },
 "nbformat": 4,
 "nbformat_minor": 2
}
