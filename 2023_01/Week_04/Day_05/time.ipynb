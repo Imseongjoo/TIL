{
 "cells": [
  {
   "cell_type": "code",
   "execution_count": 1,
   "metadata": {},
   "outputs": [
    {
     "name": "stdout",
     "output_type": "stream",
     "text": [
      "CPU times: total: 0 ns\n",
      "Wall time: 0 ns\n"
     ]
    }
   ],
   "source": [
    "%%time\n",
    "from collections import deque\n",
    "from queue import Queue"
   ]
  },
  {
   "cell_type": "code",
   "execution_count": 2,
   "metadata": {},
   "outputs": [
    {
     "name": "stdout",
     "output_type": "stream",
     "text": [
      "1000000\n",
      "CPU times: total: 46.9 ms\n",
      "Wall time: 40.7 ms\n"
     ]
    }
   ],
   "source": [
    "%%time\n",
    "# deque 데이터 추가(append) 속도 \n",
    "deque_ = deque()\n",
    "for i in range(10**6):\n",
    "    deque_.append(i)\n",
    "print(len(deque_))"
   ]
  },
  {
   "cell_type": "code",
   "execution_count": 3,
   "metadata": {},
   "outputs": [
    {
     "name": "stdout",
     "output_type": "stream",
     "text": [
      "1000000\n",
      "CPU times: total: 578 ms\n",
      "Wall time: 594 ms\n"
     ]
    }
   ],
   "source": [
    "%%time\n",
    "# queue 데이터 추가(put) 속도\n",
    "queue_ = Queue()\n",
    "for i in range(10**6):\n",
    "    queue_.put(i)\n",
    "print(queue_.qsize())"
   ]
  },
  {
   "cell_type": "code",
   "execution_count": 7,
   "metadata": {},
   "outputs": [
    {
     "name": "stdout",
     "output_type": "stream",
     "text": [
      "0\n",
      "CPU times: total: 109 ms\n",
      "Wall time: 93.4 ms\n"
     ]
    }
   ],
   "source": [
    "%%time \n",
    "# deque 데이터 popleft 속도\n",
    "deque_ = deque()\n",
    "for i in range(10**6):\n",
    "    deque_.appendleft(i)\n",
    "\n",
    "while len(deque_) != 0:\n",
    "    deque_.popleft()\n",
    "\n",
    "print(len(deque_))"
   ]
  },
  {
   "cell_type": "code",
   "execution_count": 6,
   "metadata": {},
   "outputs": [
    {
     "name": "stdout",
     "output_type": "stream",
     "text": [
      "0\n",
      "CPU times: total: 1.33 s\n",
      "Wall time: 1.37 s\n"
     ]
    }
   ],
   "source": [
    "%%time\n",
    "# queue 데이터 pop(get) 속도\n",
    "queue_ = Queue()\n",
    "for i in range(10**6):\n",
    "    queue_.put(i)\n",
    "\n",
    "while queue_.qsize() != 0:\n",
    "    queue_.get()\n",
    "\n",
    "print(queue_.qsize())"
   ]
  },
  {
   "cell_type": "code",
   "execution_count": 8,
   "metadata": {},
   "outputs": [
    {
     "ename": "KeyboardInterrupt",
     "evalue": "",
     "output_type": "error",
     "traceback": [
      "\u001b[1;31m---------------------------------------------------------------------------\u001b[0m",
      "\u001b[1;31mKeyboardInterrupt\u001b[0m                         Traceback (most recent call last)",
      "File \u001b[1;32m<timed exec>:7\u001b[0m, in \u001b[0;36m<module>\u001b[1;34m\u001b[0m\n",
      "\u001b[1;31mKeyboardInterrupt\u001b[0m: "
     ]
    }
   ],
   "source": [
    "%%time\n",
    "# list 데이터 pop(0) 속도\n",
    "list_ = list()\n",
    "for i in range(10**6):\n",
    "    list_.append(i)\n",
    "\n",
    "while len(list_) != 0:\n",
    "    list_.pop(0)\n",
    "\n",
    "print(len(list_))"
   ]
  }
 ],
 "metadata": {
  "kernelspec": {
   "display_name": "Python 3",
   "language": "python",
   "name": "python3"
  },
  "language_info": {
   "codemirror_mode": {
    "name": "ipython",
    "version": 3
   },
   "file_extension": ".py",
   "mimetype": "text/x-python",
   "name": "python",
   "nbconvert_exporter": "python",
   "pygments_lexer": "ipython3",
   "version": "3.9.13"
  },
  "orig_nbformat": 4,
  "vscode": {
   "interpreter": {
    "hash": "8b46390d37160f64800603147848dd3125afd838785e1acdae529df06946400f"
   }
  }
 },
 "nbformat": 4,
 "nbformat_minor": 2
}
